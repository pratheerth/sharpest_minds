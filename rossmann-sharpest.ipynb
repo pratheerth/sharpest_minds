{
 "cells": [
  {
   "cell_type": "code",
   "execution_count": 1,
   "metadata": {
    "collapsed": true
   },
   "outputs": [],
   "source": [
    "import numpy as np\n",
    "import pandas as pd\n",
    "import matplotlib.pyplot as plt\n",
    "\n",
    "%matplotlib inline"
   ]
  },
  {
   "cell_type": "markdown",
   "metadata": {},
   "source": [
    "### Loading Data"
   ]
  },
  {
   "cell_type": "code",
   "execution_count": 2,
   "metadata": {
    "collapsed": false
   },
   "outputs": [
    {
     "name": "stderr",
     "output_type": "stream",
     "text": [
      "/Users/pratheerthpadman/anaconda/envs/carnd-term1/lib/python3.5/site-packages/IPython/core/interactiveshell.py:2717: DtypeWarning: Columns (7) have mixed types. Specify dtype option on import or set low_memory=False.\n",
      "  interactivity=interactivity, compiler=compiler, result=result)\n"
     ]
    }
   ],
   "source": [
    "train_df = pd.read_csv(\"train.csv\")\n",
    "test_df = pd.read_csv(\"test.csv\")\n",
    "store_df = pd.read_csv(\"store.csv\")"
   ]
  },
  {
   "cell_type": "code",
   "execution_count": 3,
   "metadata": {
    "collapsed": false
   },
   "outputs": [
    {
     "data": {
      "text/html": [
       "<div>\n",
       "<table border=\"1\" class=\"dataframe\">\n",
       "  <thead>\n",
       "    <tr style=\"text-align: right;\">\n",
       "      <th></th>\n",
       "      <th>Store</th>\n",
       "      <th>DayOfWeek</th>\n",
       "      <th>Date</th>\n",
       "      <th>Sales</th>\n",
       "      <th>Customers</th>\n",
       "      <th>Open</th>\n",
       "      <th>Promo</th>\n",
       "      <th>StateHoliday</th>\n",
       "      <th>SchoolHoliday</th>\n",
       "    </tr>\n",
       "  </thead>\n",
       "  <tbody>\n",
       "    <tr>\n",
       "      <th>0</th>\n",
       "      <td>1</td>\n",
       "      <td>5</td>\n",
       "      <td>2015-07-31</td>\n",
       "      <td>5263</td>\n",
       "      <td>555</td>\n",
       "      <td>1</td>\n",
       "      <td>1</td>\n",
       "      <td>0</td>\n",
       "      <td>1</td>\n",
       "    </tr>\n",
       "    <tr>\n",
       "      <th>1</th>\n",
       "      <td>2</td>\n",
       "      <td>5</td>\n",
       "      <td>2015-07-31</td>\n",
       "      <td>6064</td>\n",
       "      <td>625</td>\n",
       "      <td>1</td>\n",
       "      <td>1</td>\n",
       "      <td>0</td>\n",
       "      <td>1</td>\n",
       "    </tr>\n",
       "    <tr>\n",
       "      <th>2</th>\n",
       "      <td>3</td>\n",
       "      <td>5</td>\n",
       "      <td>2015-07-31</td>\n",
       "      <td>8314</td>\n",
       "      <td>821</td>\n",
       "      <td>1</td>\n",
       "      <td>1</td>\n",
       "      <td>0</td>\n",
       "      <td>1</td>\n",
       "    </tr>\n",
       "    <tr>\n",
       "      <th>3</th>\n",
       "      <td>4</td>\n",
       "      <td>5</td>\n",
       "      <td>2015-07-31</td>\n",
       "      <td>13995</td>\n",
       "      <td>1498</td>\n",
       "      <td>1</td>\n",
       "      <td>1</td>\n",
       "      <td>0</td>\n",
       "      <td>1</td>\n",
       "    </tr>\n",
       "    <tr>\n",
       "      <th>4</th>\n",
       "      <td>5</td>\n",
       "      <td>5</td>\n",
       "      <td>2015-07-31</td>\n",
       "      <td>4822</td>\n",
       "      <td>559</td>\n",
       "      <td>1</td>\n",
       "      <td>1</td>\n",
       "      <td>0</td>\n",
       "      <td>1</td>\n",
       "    </tr>\n",
       "  </tbody>\n",
       "</table>\n",
       "</div>"
      ],
      "text/plain": [
       "   Store  DayOfWeek        Date  Sales  Customers  Open  Promo StateHoliday  \\\n",
       "0      1          5  2015-07-31   5263        555     1      1            0   \n",
       "1      2          5  2015-07-31   6064        625     1      1            0   \n",
       "2      3          5  2015-07-31   8314        821     1      1            0   \n",
       "3      4          5  2015-07-31  13995       1498     1      1            0   \n",
       "4      5          5  2015-07-31   4822        559     1      1            0   \n",
       "\n",
       "   SchoolHoliday  \n",
       "0              1  \n",
       "1              1  \n",
       "2              1  \n",
       "3              1  \n",
       "4              1  "
      ]
     },
     "execution_count": 3,
     "metadata": {},
     "output_type": "execute_result"
    }
   ],
   "source": [
    "train_df.head()"
   ]
  },
  {
   "cell_type": "code",
   "execution_count": 4,
   "metadata": {
    "collapsed": false,
    "scrolled": true
   },
   "outputs": [
    {
     "data": {
      "text/html": [
       "<div>\n",
       "<table border=\"1\" class=\"dataframe\">\n",
       "  <thead>\n",
       "    <tr style=\"text-align: right;\">\n",
       "      <th></th>\n",
       "      <th>Id</th>\n",
       "      <th>Store</th>\n",
       "      <th>DayOfWeek</th>\n",
       "      <th>Date</th>\n",
       "      <th>Open</th>\n",
       "      <th>Promo</th>\n",
       "      <th>StateHoliday</th>\n",
       "      <th>SchoolHoliday</th>\n",
       "    </tr>\n",
       "  </thead>\n",
       "  <tbody>\n",
       "    <tr>\n",
       "      <th>0</th>\n",
       "      <td>1</td>\n",
       "      <td>1</td>\n",
       "      <td>4</td>\n",
       "      <td>2015-09-17</td>\n",
       "      <td>1.0</td>\n",
       "      <td>1</td>\n",
       "      <td>0</td>\n",
       "      <td>0</td>\n",
       "    </tr>\n",
       "    <tr>\n",
       "      <th>1</th>\n",
       "      <td>2</td>\n",
       "      <td>3</td>\n",
       "      <td>4</td>\n",
       "      <td>2015-09-17</td>\n",
       "      <td>1.0</td>\n",
       "      <td>1</td>\n",
       "      <td>0</td>\n",
       "      <td>0</td>\n",
       "    </tr>\n",
       "    <tr>\n",
       "      <th>2</th>\n",
       "      <td>3</td>\n",
       "      <td>7</td>\n",
       "      <td>4</td>\n",
       "      <td>2015-09-17</td>\n",
       "      <td>1.0</td>\n",
       "      <td>1</td>\n",
       "      <td>0</td>\n",
       "      <td>0</td>\n",
       "    </tr>\n",
       "    <tr>\n",
       "      <th>3</th>\n",
       "      <td>4</td>\n",
       "      <td>8</td>\n",
       "      <td>4</td>\n",
       "      <td>2015-09-17</td>\n",
       "      <td>1.0</td>\n",
       "      <td>1</td>\n",
       "      <td>0</td>\n",
       "      <td>0</td>\n",
       "    </tr>\n",
       "    <tr>\n",
       "      <th>4</th>\n",
       "      <td>5</td>\n",
       "      <td>9</td>\n",
       "      <td>4</td>\n",
       "      <td>2015-09-17</td>\n",
       "      <td>1.0</td>\n",
       "      <td>1</td>\n",
       "      <td>0</td>\n",
       "      <td>0</td>\n",
       "    </tr>\n",
       "  </tbody>\n",
       "</table>\n",
       "</div>"
      ],
      "text/plain": [
       "   Id  Store  DayOfWeek        Date  Open  Promo StateHoliday  SchoolHoliday\n",
       "0   1      1          4  2015-09-17   1.0      1            0              0\n",
       "1   2      3          4  2015-09-17   1.0      1            0              0\n",
       "2   3      7          4  2015-09-17   1.0      1            0              0\n",
       "3   4      8          4  2015-09-17   1.0      1            0              0\n",
       "4   5      9          4  2015-09-17   1.0      1            0              0"
      ]
     },
     "execution_count": 4,
     "metadata": {},
     "output_type": "execute_result"
    }
   ],
   "source": [
    "test_df.head()"
   ]
  },
  {
   "cell_type": "code",
   "execution_count": 5,
   "metadata": {
    "collapsed": false
   },
   "outputs": [
    {
     "data": {
      "text/html": [
       "<div>\n",
       "<table border=\"1\" class=\"dataframe\">\n",
       "  <thead>\n",
       "    <tr style=\"text-align: right;\">\n",
       "      <th></th>\n",
       "      <th>Store</th>\n",
       "      <th>StoreType</th>\n",
       "      <th>Assortment</th>\n",
       "      <th>CompetitionDistance</th>\n",
       "      <th>CompetitionOpenSinceMonth</th>\n",
       "      <th>CompetitionOpenSinceYear</th>\n",
       "      <th>Promo2</th>\n",
       "      <th>Promo2SinceWeek</th>\n",
       "      <th>Promo2SinceYear</th>\n",
       "      <th>PromoInterval</th>\n",
       "    </tr>\n",
       "  </thead>\n",
       "  <tbody>\n",
       "    <tr>\n",
       "      <th>0</th>\n",
       "      <td>1</td>\n",
       "      <td>c</td>\n",
       "      <td>a</td>\n",
       "      <td>1270.0</td>\n",
       "      <td>9.0</td>\n",
       "      <td>2008.0</td>\n",
       "      <td>0</td>\n",
       "      <td>NaN</td>\n",
       "      <td>NaN</td>\n",
       "      <td>NaN</td>\n",
       "    </tr>\n",
       "    <tr>\n",
       "      <th>1</th>\n",
       "      <td>2</td>\n",
       "      <td>a</td>\n",
       "      <td>a</td>\n",
       "      <td>570.0</td>\n",
       "      <td>11.0</td>\n",
       "      <td>2007.0</td>\n",
       "      <td>1</td>\n",
       "      <td>13.0</td>\n",
       "      <td>2010.0</td>\n",
       "      <td>Jan,Apr,Jul,Oct</td>\n",
       "    </tr>\n",
       "    <tr>\n",
       "      <th>2</th>\n",
       "      <td>3</td>\n",
       "      <td>a</td>\n",
       "      <td>a</td>\n",
       "      <td>14130.0</td>\n",
       "      <td>12.0</td>\n",
       "      <td>2006.0</td>\n",
       "      <td>1</td>\n",
       "      <td>14.0</td>\n",
       "      <td>2011.0</td>\n",
       "      <td>Jan,Apr,Jul,Oct</td>\n",
       "    </tr>\n",
       "    <tr>\n",
       "      <th>3</th>\n",
       "      <td>4</td>\n",
       "      <td>c</td>\n",
       "      <td>c</td>\n",
       "      <td>620.0</td>\n",
       "      <td>9.0</td>\n",
       "      <td>2009.0</td>\n",
       "      <td>0</td>\n",
       "      <td>NaN</td>\n",
       "      <td>NaN</td>\n",
       "      <td>NaN</td>\n",
       "    </tr>\n",
       "    <tr>\n",
       "      <th>4</th>\n",
       "      <td>5</td>\n",
       "      <td>a</td>\n",
       "      <td>a</td>\n",
       "      <td>29910.0</td>\n",
       "      <td>4.0</td>\n",
       "      <td>2015.0</td>\n",
       "      <td>0</td>\n",
       "      <td>NaN</td>\n",
       "      <td>NaN</td>\n",
       "      <td>NaN</td>\n",
       "    </tr>\n",
       "  </tbody>\n",
       "</table>\n",
       "</div>"
      ],
      "text/plain": [
       "   Store StoreType Assortment  CompetitionDistance  CompetitionOpenSinceMonth  \\\n",
       "0      1         c          a               1270.0                        9.0   \n",
       "1      2         a          a                570.0                       11.0   \n",
       "2      3         a          a              14130.0                       12.0   \n",
       "3      4         c          c                620.0                        9.0   \n",
       "4      5         a          a              29910.0                        4.0   \n",
       "\n",
       "   CompetitionOpenSinceYear  Promo2  Promo2SinceWeek  Promo2SinceYear  \\\n",
       "0                    2008.0       0              NaN              NaN   \n",
       "1                    2007.0       1             13.0           2010.0   \n",
       "2                    2006.0       1             14.0           2011.0   \n",
       "3                    2009.0       0              NaN              NaN   \n",
       "4                    2015.0       0              NaN              NaN   \n",
       "\n",
       "     PromoInterval  \n",
       "0              NaN  \n",
       "1  Jan,Apr,Jul,Oct  \n",
       "2  Jan,Apr,Jul,Oct  \n",
       "3              NaN  \n",
       "4              NaN  "
      ]
     },
     "execution_count": 5,
     "metadata": {},
     "output_type": "execute_result"
    }
   ],
   "source": [
    "store_df.head()"
   ]
  },
  {
   "cell_type": "markdown",
   "metadata": {},
   "source": [
    "### Dataset Stats"
   ]
  },
  {
   "cell_type": "code",
   "execution_count": 6,
   "metadata": {
    "collapsed": false
   },
   "outputs": [
    {
     "name": "stdout",
     "output_type": "stream",
     "text": [
      "<class 'pandas.core.frame.DataFrame'>\n",
      "RangeIndex: 1017209 entries, 0 to 1017208\n",
      "Data columns (total 9 columns):\n",
      "Store            1017209 non-null int64\n",
      "DayOfWeek        1017209 non-null int64\n",
      "Date             1017209 non-null object\n",
      "Sales            1017209 non-null int64\n",
      "Customers        1017209 non-null int64\n",
      "Open             1017209 non-null int64\n",
      "Promo            1017209 non-null int64\n",
      "StateHoliday     1017209 non-null object\n",
      "SchoolHoliday    1017209 non-null int64\n",
      "dtypes: int64(7), object(2)\n",
      "memory usage: 69.8+ MB\n",
      "------------------------------\n",
      "<class 'pandas.core.frame.DataFrame'>\n",
      "RangeIndex: 41088 entries, 0 to 41087\n",
      "Data columns (total 8 columns):\n",
      "Id               41088 non-null int64\n",
      "Store            41088 non-null int64\n",
      "DayOfWeek        41088 non-null int64\n",
      "Date             41088 non-null object\n",
      "Open             41077 non-null float64\n",
      "Promo            41088 non-null int64\n",
      "StateHoliday     41088 non-null object\n",
      "SchoolHoliday    41088 non-null int64\n",
      "dtypes: float64(1), int64(5), object(2)\n",
      "memory usage: 2.5+ MB\n",
      "------------------------------\n",
      "<class 'pandas.core.frame.DataFrame'>\n",
      "RangeIndex: 1115 entries, 0 to 1114\n",
      "Data columns (total 10 columns):\n",
      "Store                        1115 non-null int64\n",
      "StoreType                    1115 non-null object\n",
      "Assortment                   1115 non-null object\n",
      "CompetitionDistance          1112 non-null float64\n",
      "CompetitionOpenSinceMonth    761 non-null float64\n",
      "CompetitionOpenSinceYear     761 non-null float64\n",
      "Promo2                       1115 non-null int64\n",
      "Promo2SinceWeek              571 non-null float64\n",
      "Promo2SinceYear              571 non-null float64\n",
      "PromoInterval                571 non-null object\n",
      "dtypes: float64(5), int64(2), object(3)\n",
      "memory usage: 87.2+ KB\n"
     ]
    }
   ],
   "source": [
    "train_df.info()\n",
    "print(\"-\" * 30)\n",
    "test_df.info()\n",
    "print(\"-\" * 30)\n",
    "store_df.info()"
   ]
  },
  {
   "cell_type": "markdown",
   "metadata": {},
   "source": [
    "##### Training set contains no null values. There are some null values in the test set \"Open\" feature. Multiple features with null values in the store data"
   ]
  },
  {
   "cell_type": "code",
   "execution_count": 7,
   "metadata": {
    "collapsed": false
   },
   "outputs": [
    {
     "name": "stdout",
     "output_type": "stream",
     "text": [
      "The training dataset has 1017209 samples and 9 features\n",
      "The testing dataset has 41088 samples and 8 features\n",
      "The store dataset has 1115 sample and 10 features\n"
     ]
    }
   ],
   "source": [
    "print (\"The training dataset has {} samples and {} features\".format(*train_df.shape))\n",
    "print (\"The testing dataset has {} samples and {} features\".format(*test_df.shape))\n",
    "print (\"The store dataset has {} sample and {} features\".format(*store_df.shape))"
   ]
  },
  {
   "cell_type": "markdown",
   "metadata": {},
   "source": [
    "### Cleaning dataset"
   ]
  },
  {
   "cell_type": "code",
   "execution_count": 8,
   "metadata": {
    "collapsed": false
   },
   "outputs": [
    {
     "name": "stdout",
     "output_type": "stream",
     "text": [
      "Fixing the Timestamps\n"
     ]
    }
   ],
   "source": [
    "# Column - Date\n",
    "print(\"Fixing the Timestamps\")\n",
    "train_df[\"Date\"] = pd.to_datetime(train_df[\"Date\"], format=\"%Y-%m-%d\")\n",
    "test_df[\"Date\"] = pd.to_datetime(train_df[\"Date\"], format=\"%Y-%m-%d\")"
   ]
  },
  {
   "cell_type": "code",
   "execution_count": 9,
   "metadata": {
    "collapsed": false
   },
   "outputs": [
    {
     "name": "stderr",
     "output_type": "stream",
     "text": [
      "/Users/pratheerthpadman/anaconda/envs/carnd-term1/lib/python3.5/site-packages/ipykernel/__main__.py:3: SettingWithCopyWarning: \n",
      "A value is trying to be set on a copy of a slice from a DataFrame\n",
      "\n",
      "See the caveats in the documentation: http://pandas.pydata.org/pandas-docs/stable/indexing.html#indexing-view-versus-copy\n",
      "  app.launch_new_instance()\n"
     ]
    }
   ],
   "source": [
    "# Column - Open\n",
    "# fill NaN values in test_df with Open=1 if DayOfWeek != 7\n",
    "test_df[\"Open\"][test_df[\"Open\"] != test_df[\"Open\"]] = (test_df[\"DayOfWeek\"] != 7).astype(int)"
   ]
  },
  {
   "cell_type": "code",
   "execution_count": 10,
   "metadata": {
    "collapsed": false
   },
   "outputs": [
    {
     "data": {
      "text/plain": [
       "0    855087\n",
       "0    131072\n",
       "a     20260\n",
       "b      6690\n",
       "c      4100\n",
       "Name: StateHoliday, dtype: int64"
      ]
     },
     "execution_count": 10,
     "metadata": {},
     "output_type": "execute_result"
    }
   ],
   "source": [
    "# Column - State Holiday\n",
    "train_df[\"StateHoliday\"].value_counts()"
   ]
  },
  {
   "cell_type": "code",
   "execution_count": 11,
   "metadata": {
    "collapsed": false
   },
   "outputs": [
    {
     "data": {
      "text/plain": [
       "0    40908\n",
       "a      180\n",
       "Name: StateHoliday, dtype: int64"
      ]
     },
     "execution_count": 11,
     "metadata": {},
     "output_type": "execute_result"
    }
   ],
   "source": [
    "test_df[\"StateHoliday\"].value_counts()"
   ]
  },
  {
   "cell_type": "code",
   "execution_count": 12,
   "metadata": {
    "collapsed": false
   },
   "outputs": [
    {
     "name": "stderr",
     "output_type": "stream",
     "text": [
      "/Users/pratheerthpadman/anaconda/envs/carnd-term1/lib/python3.5/site-packages/pandas/core/indexing.py:141: SettingWithCopyWarning: \n",
      "A value is trying to be set on a copy of a slice from a DataFrame\n",
      "\n",
      "See the caveats in the documentation: http://pandas.pydata.org/pandas-docs/stable/indexing.html#indexing-view-versus-copy\n",
      "  self._setitem_with_indexer(indexer, value)\n"
     ]
    }
   ],
   "source": [
    "#In the training dataset, StateHoliday has values 0 and \"0\". We'll need to merge those\n",
    "train_df[\"StateHoliday\"].loc[train_df[\"StateHoliday\"]==0] = \"0\""
   ]
  },
  {
   "cell_type": "code",
   "execution_count": 13,
   "metadata": {
    "collapsed": true
   },
   "outputs": [],
   "source": [
    "# StateHoliday - indicates a state holiday. Normally all stores, with few exceptions, are closed on state holidays. \n",
    "#Note that all schools are closed on public holidays and weekends.\n",
    "#a = public holiday, b = Easter holiday, c = Christmas, 0 = None"
   ]
  },
  {
   "cell_type": "code",
   "execution_count": 14,
   "metadata": {
    "collapsed": true
   },
   "outputs": [],
   "source": [
    "#Now the a, b, c categories need to mapped to Holidays\n",
    "train_df[\"StateHoliday\"] = train_df[\"StateHoliday\"].map({0: 0, \"0\": 0, \"a\": 1, \"b\": 1, \"c\": 1})\n",
    "test_df[\"StateHoliday\"] = test_df[\"StateHoliday\"].map({0: 0, \"0\": 0, \"a\": 1, \"b\": 1, \"c\": 1})"
   ]
  },
  {
   "cell_type": "code",
   "execution_count": 15,
   "metadata": {
    "collapsed": false
   },
   "outputs": [],
   "source": [
    "#Store Dataset\n",
    "#Column - Competition Distance\n",
    "store_df[\"CompetitionDistance\"].fillna(store_df[\"CompetitionDistance\"].mean(), inplace=True)"
   ]
  },
  {
   "cell_type": "code",
   "execution_count": 16,
   "metadata": {
    "collapsed": false
   },
   "outputs": [],
   "source": [
    "#Column - DayofWeek\n",
    "train_df = pd.concat([train_df, pd.get_dummies(train_df[\"DayOfWeek\"], prefix=\"DOW_\")], axis=1)\n",
    "test_df = pd.concat([test_df, pd.get_dummies(test_df[\"DayOfWeek\"], prefix=\"DOW_\")], axis=1)"
   ]
  },
  {
   "cell_type": "code",
   "execution_count": 17,
   "metadata": {
    "collapsed": false
   },
   "outputs": [],
   "source": [
    "#Column - StoreType\n",
    "store_df = pd.concat([store_df, pd.get_dummies(store_df[\"StoreType\"], prefix=\"StoreType_\")], axis=1)"
   ]
  },
  {
   "cell_type": "code",
   "execution_count": 18,
   "metadata": {
    "collapsed": true
   },
   "outputs": [],
   "source": [
    "#Column - Assortment\n",
    "#Assortment - describes an assortment level: a = basic, b = extra, c = extended\n",
    "store_df[\"Assortment\"] = store_df[\"Assortment\"].map({\"a\": 1, \"b\": 2, \"c\": 3})"
   ]
  },
  {
   "cell_type": "code",
   "execution_count": 19,
   "metadata": {
    "collapsed": false
   },
   "outputs": [
    {
     "name": "stdout",
     "output_type": "stream",
     "text": [
      "<class 'pandas.core.frame.DataFrame'>\n",
      "RangeIndex: 1115 entries, 0 to 1114\n",
      "Data columns (total 14 columns):\n",
      "Store                        1115 non-null int64\n",
      "StoreType                    1115 non-null object\n",
      "Assortment                   1115 non-null int64\n",
      "CompetitionDistance          1115 non-null float64\n",
      "CompetitionOpenSinceMonth    761 non-null float64\n",
      "CompetitionOpenSinceYear     761 non-null float64\n",
      "Promo2                       1115 non-null int64\n",
      "Promo2SinceWeek              571 non-null float64\n",
      "Promo2SinceYear              571 non-null float64\n",
      "PromoInterval                571 non-null object\n",
      "StoreType__a                 1115 non-null uint8\n",
      "StoreType__b                 1115 non-null uint8\n",
      "StoreType__c                 1115 non-null uint8\n",
      "StoreType__d                 1115 non-null uint8\n",
      "dtypes: float64(5), int64(3), object(2), uint8(4)\n",
      "memory usage: 91.5+ KB\n"
     ]
    }
   ],
   "source": [
    "store_df.info()"
   ]
  },
  {
   "cell_type": "code",
   "execution_count": 20,
   "metadata": {
    "collapsed": false,
    "scrolled": true
   },
   "outputs": [
    {
     "data": {
      "text/plain": [
       "(array([  2.96673000e+05,   5.05472000e+05,   1.69792000e+05,\n",
       "          3.32340000e+04,   8.90100000e+03,   2.36200000e+03,\n",
       "          5.65000000e+02,   1.74000000e+02,   2.80000000e+01,\n",
       "          8.00000000e+00]),\n",
       " array([     0. ,   4155.1,   8310.2,  12465.3,  16620.4,  20775.5,\n",
       "         24930.6,  29085.7,  33240.8,  37395.9,  41551. ]),\n",
       " <a list of 10 Patch objects>)"
      ]
     },
     "execution_count": 20,
     "metadata": {},
     "output_type": "execute_result"
    },
    {
     "data": {
      "image/png": "[encoded data removed]",
      "text/plain": [
       "<matplotlib.figure.Figure at 0x102148d30>"
      ]
     },
     "metadata": {},
     "output_type": "display_data"
    }
   ],
   "source": [
    "plt.hist(train_df[\"Sales\"])"
   ]
  },
  {
   "cell_type": "markdown",
   "metadata": {},
   "source": [
    "### Feature Extraction"
   ]
  },
  {
   "cell_type": "code",
   "execution_count": 21,
   "metadata": {
    "collapsed": false
   },
   "outputs": [],
   "source": [
    "sale_mean_per_store = train_df.groupby(\"Store\").Sales.mean()\n",
    "sale_mean_per_store.name = \"Mean Sales\""
   ]
  },
  {
   "cell_type": "code",
   "execution_count": 22,
   "metadata": {
    "collapsed": true
   },
   "outputs": [],
   "source": [
    "cust_mean_per_store = train_df.groupby(\"Store\").Customers.mean()\n",
    "cust_mean_per_store.name = \"Mean Customers\""
   ]
  },
  {
   "cell_type": "code",
   "execution_count": 23,
   "metadata": {
    "collapsed": true
   },
   "outputs": [],
   "source": [
    "train_df = train_df.join(sale_mean_per_store, on=\"Store\")\n",
    "test_df = test_df.join(sale_mean_per_store, on=\"Store\")\n",
    "\n",
    "train_df = train_df.join(cust_mean_per_store, on=\"Store\")\n",
    "test_df = test_df.join(cust_mean_per_store, on=\"Store\")"
   ]
  },
  {
   "cell_type": "code",
   "execution_count": 24,
   "metadata": {
    "collapsed": true
   },
   "outputs": [],
   "source": [
    "train_df.drop(\"Customers\", axis=1, inplace=True)"
   ]
  },
  {
   "cell_type": "code",
   "execution_count": 25,
   "metadata": {
    "collapsed": true
   },
   "outputs": [],
   "source": [
    "train_df[\"Month\"] = train_df[\"Date\"].dt.month\n",
    "train_df[\"Year\"] = train_df[\"Date\"].dt.year\n",
    "train_df[\"DayofYear\"] = train_df[\"Date\"].dt.dayofyear\n",
    "train_df[\"WeekofYear\"] = train_df[\"Date\"].dt.weekofyear"
   ]
  },
  {
   "cell_type": "code",
   "execution_count": 26,
   "metadata": {
    "collapsed": true
   },
   "outputs": [],
   "source": [
    "test_df[\"Month\"] = test_df[\"Date\"].dt.month\n",
    "test_df[\"Year\"] = test_df[\"Date\"].dt.year\n",
    "test_df[\"DayofYear\"] = test_df[\"Date\"].dt.dayofyear\n",
    "test_df[\"WeekofYear\"] = test_df[\"Date\"].dt.weekofyear"
   ]
  },
  {
   "cell_type": "code",
   "execution_count": 27,
   "metadata": {
    "collapsed": false
   },
   "outputs": [
    {
     "name": "stdout",
     "output_type": "stream",
     "text": [
      "Dropped Date column\n"
     ]
    }
   ],
   "source": [
    "train_df.drop(\"Date\", axis=1, inplace=True)\n",
    "test_df.drop(\"Date\", axis=1, inplace=True)\n",
    "print(\"Dropped Date column\")"
   ]
  },
  {
   "cell_type": "code",
   "execution_count": null,
   "metadata": {
    "collapsed": true
   },
   "outputs": [],
   "source": []
  },
  {
   "cell_type": "code",
   "execution_count": 28,
   "metadata": {
    "collapsed": true
   },
   "outputs": [],
   "source": [
    "cols_to_drop = [\"CompetitionOpenSinceMonth\", \"CompetitionOpenSinceYear\", \"Promo2SinceWeek\", \"Promo2SinceYear\", \n",
    "                \"PromoInterval\", \"StoreType\"]"
   ]
  },
  {
   "cell_type": "code",
   "execution_count": 29,
   "metadata": {
    "collapsed": false
   },
   "outputs": [
    {
     "name": "stdout",
     "output_type": "stream",
     "text": [
      "Dropped Columns\n"
     ]
    }
   ],
   "source": [
    "store_df.drop(cols_to_drop, axis=1, inplace=True)\n",
    "print(\"Dropped Columns\")"
   ]
  },
  {
   "cell_type": "markdown",
   "metadata": {},
   "source": [
    "### Preparing datasets"
   ]
  },
  {
   "cell_type": "code",
   "execution_count": 30,
   "metadata": {
    "collapsed": false
   },
   "outputs": [],
   "source": [
    "#Saving Id's for submission file\n",
    "ID = test_df[\"Id\"]\n",
    "test_df.drop(\"Id\", axis=1, inplace=True)"
   ]
  },
  {
   "cell_type": "code",
   "execution_count": 31,
   "metadata": {
    "collapsed": false
   },
   "outputs": [
    {
     "name": "stdout",
     "output_type": "stream",
     "text": [
      "Use only Sales bigger then zero. Simplifies calculation of rmspe\n"
     ]
    }
   ],
   "source": [
    "#print(\"Consider only open stores for training. Closed stores wont count into the score.\")\n",
    "#train_df = train_df[train_df[\"Open\"] != 0]\n",
    "print(\"Use only Sales bigger then zero. Simplifies calculation of rmspe\")\n",
    "train = train_df[train_df[\"Sales\"] > 0]"
   ]
  },
  {
   "cell_type": "code",
   "execution_count": 32,
   "metadata": {
    "collapsed": false
   },
   "outputs": [
    {
     "data": {
      "text/html": [
       "<div>\n",
       "<table border=\"1\" class=\"dataframe\">\n",
       "  <thead>\n",
       "    <tr style=\"text-align: right;\">\n",
       "      <th></th>\n",
       "      <th>Store</th>\n",
       "      <th>DayOfWeek</th>\n",
       "      <th>Sales</th>\n",
       "      <th>Open</th>\n",
       "      <th>Promo</th>\n",
       "      <th>StateHoliday</th>\n",
       "      <th>SchoolHoliday</th>\n",
       "      <th>DOW__1</th>\n",
       "      <th>DOW__2</th>\n",
       "      <th>DOW__3</th>\n",
       "      <th>DOW__4</th>\n",
       "      <th>DOW__5</th>\n",
       "      <th>DOW__6</th>\n",
       "      <th>DOW__7</th>\n",
       "      <th>Mean Sales</th>\n",
       "      <th>Mean Customers</th>\n",
       "      <th>Month</th>\n",
       "      <th>Year</th>\n",
       "      <th>DayofYear</th>\n",
       "      <th>WeekofYear</th>\n",
       "    </tr>\n",
       "  </thead>\n",
       "  <tbody>\n",
       "    <tr>\n",
       "      <th>0</th>\n",
       "      <td>1</td>\n",
       "      <td>5</td>\n",
       "      <td>5263</td>\n",
       "      <td>1</td>\n",
       "      <td>1</td>\n",
       "      <td>0</td>\n",
       "      <td>1</td>\n",
       "      <td>0</td>\n",
       "      <td>0</td>\n",
       "      <td>0</td>\n",
       "      <td>0</td>\n",
       "      <td>1</td>\n",
       "      <td>0</td>\n",
       "      <td>0</td>\n",
       "      <td>3945.704883</td>\n",
       "      <td>467.646497</td>\n",
       "      <td>7</td>\n",
       "      <td>2015</td>\n",
       "      <td>212</td>\n",
       "      <td>31</td>\n",
       "    </tr>\n",
       "    <tr>\n",
       "      <th>1</th>\n",
       "      <td>2</td>\n",
       "      <td>5</td>\n",
       "      <td>6064</td>\n",
       "      <td>1</td>\n",
       "      <td>1</td>\n",
       "      <td>0</td>\n",
       "      <td>1</td>\n",
       "      <td>0</td>\n",
       "      <td>0</td>\n",
       "      <td>0</td>\n",
       "      <td>0</td>\n",
       "      <td>1</td>\n",
       "      <td>0</td>\n",
       "      <td>0</td>\n",
       "      <td>4122.991507</td>\n",
       "      <td>486.045648</td>\n",
       "      <td>7</td>\n",
       "      <td>2015</td>\n",
       "      <td>212</td>\n",
       "      <td>31</td>\n",
       "    </tr>\n",
       "    <tr>\n",
       "      <th>2</th>\n",
       "      <td>3</td>\n",
       "      <td>5</td>\n",
       "      <td>8314</td>\n",
       "      <td>1</td>\n",
       "      <td>1</td>\n",
       "      <td>0</td>\n",
       "      <td>1</td>\n",
       "      <td>0</td>\n",
       "      <td>0</td>\n",
       "      <td>0</td>\n",
       "      <td>0</td>\n",
       "      <td>1</td>\n",
       "      <td>0</td>\n",
       "      <td>0</td>\n",
       "      <td>5741.253715</td>\n",
       "      <td>620.286624</td>\n",
       "      <td>7</td>\n",
       "      <td>2015</td>\n",
       "      <td>212</td>\n",
       "      <td>31</td>\n",
       "    </tr>\n",
       "    <tr>\n",
       "      <th>3</th>\n",
       "      <td>4</td>\n",
       "      <td>5</td>\n",
       "      <td>13995</td>\n",
       "      <td>1</td>\n",
       "      <td>1</td>\n",
       "      <td>0</td>\n",
       "      <td>1</td>\n",
       "      <td>0</td>\n",
       "      <td>0</td>\n",
       "      <td>0</td>\n",
       "      <td>0</td>\n",
       "      <td>1</td>\n",
       "      <td>0</td>\n",
       "      <td>0</td>\n",
       "      <td>8021.769639</td>\n",
       "      <td>1100.057325</td>\n",
       "      <td>7</td>\n",
       "      <td>2015</td>\n",
       "      <td>212</td>\n",
       "      <td>31</td>\n",
       "    </tr>\n",
       "    <tr>\n",
       "      <th>4</th>\n",
       "      <td>5</td>\n",
       "      <td>5</td>\n",
       "      <td>4822</td>\n",
       "      <td>1</td>\n",
       "      <td>1</td>\n",
       "      <td>0</td>\n",
       "      <td>1</td>\n",
       "      <td>0</td>\n",
       "      <td>0</td>\n",
       "      <td>0</td>\n",
       "      <td>0</td>\n",
       "      <td>1</td>\n",
       "      <td>0</td>\n",
       "      <td>0</td>\n",
       "      <td>3867.110403</td>\n",
       "      <td>444.360934</td>\n",
       "      <td>7</td>\n",
       "      <td>2015</td>\n",
       "      <td>212</td>\n",
       "      <td>31</td>\n",
       "    </tr>\n",
       "  </tbody>\n",
       "</table>\n",
       "</div>"
      ],
      "text/plain": [
       "   Store  DayOfWeek  Sales  Open  Promo  StateHoliday  SchoolHoliday  DOW__1  \\\n",
       "0      1          5   5263     1      1             0              1       0   \n",
       "1      2          5   6064     1      1             0              1       0   \n",
       "2      3          5   8314     1      1             0              1       0   \n",
       "3      4          5  13995     1      1             0              1       0   \n",
       "4      5          5   4822     1      1             0              1       0   \n",
       "\n",
       "   DOW__2  DOW__3  DOW__4  DOW__5  DOW__6  DOW__7   Mean Sales  \\\n",
       "0       0       0       0       1       0       0  3945.704883   \n",
       "1       0       0       0       1       0       0  4122.991507   \n",
       "2       0       0       0       1       0       0  5741.253715   \n",
       "3       0       0       0       1       0       0  8021.769639   \n",
       "4       0       0       0       1       0       0  3867.110403   \n",
       "\n",
       "   Mean Customers  Month  Year  DayofYear  WeekofYear  \n",
       "0      467.646497      7  2015        212          31  \n",
       "1      486.045648      7  2015        212          31  \n",
       "2      620.286624      7  2015        212          31  \n",
       "3     1100.057325      7  2015        212          31  \n",
       "4      444.360934      7  2015        212          31  "
      ]
     },
     "execution_count": 32,
     "metadata": {},
     "output_type": "execute_result"
    }
   ],
   "source": [
    "train_df.head()"
   ]
  },
  {
   "cell_type": "code",
   "execution_count": 33,
   "metadata": {
    "collapsed": false
   },
   "outputs": [],
   "source": [
    "#train_df = pd.merge(train_df, store_df, on=\"Store\")\n",
    "#test_df = pd.merge(test_df, store_df, on=\"Store\")"
   ]
  },
  {
   "cell_type": "code",
   "execution_count": 34,
   "metadata": {
    "collapsed": false
   },
   "outputs": [],
   "source": [
    "test_df[\"Open\"] = test_df[\"Open\"].astype(int)"
   ]
  },
  {
   "cell_type": "code",
   "execution_count": 35,
   "metadata": {
    "collapsed": false,
    "scrolled": true
   },
   "outputs": [
    {
     "name": "stdout",
     "output_type": "stream",
     "text": [
      "<class 'pandas.core.frame.DataFrame'>\n",
      "RangeIndex: 1017209 entries, 0 to 1017208\n",
      "Data columns (total 20 columns):\n",
      "Store             1017209 non-null int64\n",
      "DayOfWeek         1017209 non-null int64\n",
      "Sales             1017209 non-null int64\n",
      "Open              1017209 non-null int64\n",
      "Promo             1017209 non-null int64\n",
      "StateHoliday      1017209 non-null int64\n",
      "SchoolHoliday     1017209 non-null int64\n",
      "DOW__1            1017209 non-null uint8\n",
      "DOW__2            1017209 non-null uint8\n",
      "DOW__3            1017209 non-null uint8\n",
      "DOW__4            1017209 non-null uint8\n",
      "DOW__5            1017209 non-null uint8\n",
      "DOW__6            1017209 non-null uint8\n",
      "DOW__7            1017209 non-null uint8\n",
      "Mean Sales        1017209 non-null float64\n",
      "Mean Customers    1017209 non-null float64\n",
      "Month             1017209 non-null int64\n",
      "Year              1017209 non-null int64\n",
      "DayofYear         1017209 non-null int64\n",
      "WeekofYear        1017209 non-null int64\n",
      "dtypes: float64(2), int64(11), uint8(7)\n",
      "memory usage: 107.7 MB\n"
     ]
    }
   ],
   "source": [
    "train_df.info()"
   ]
  },
  {
   "cell_type": "code",
   "execution_count": 36,
   "metadata": {
    "collapsed": false,
    "scrolled": true
   },
   "outputs": [
    {
     "name": "stdout",
     "output_type": "stream",
     "text": [
      "<class 'pandas.core.frame.DataFrame'>\n",
      "RangeIndex: 41088 entries, 0 to 41087\n",
      "Data columns (total 19 columns):\n",
      "Store             41088 non-null int64\n",
      "DayOfWeek         41088 non-null int64\n",
      "Open              41088 non-null int64\n",
      "Promo             41088 non-null int64\n",
      "StateHoliday      41088 non-null int64\n",
      "SchoolHoliday     41088 non-null int64\n",
      "DOW__1            41088 non-null uint8\n",
      "DOW__2            41088 non-null uint8\n",
      "DOW__3            41088 non-null uint8\n",
      "DOW__4            41088 non-null uint8\n",
      "DOW__5            41088 non-null uint8\n",
      "DOW__6            41088 non-null uint8\n",
      "DOW__7            41088 non-null uint8\n",
      "Mean Sales        41088 non-null float64\n",
      "Mean Customers    41088 non-null float64\n",
      "Month             41088 non-null int64\n",
      "Year              41088 non-null int64\n",
      "DayofYear         41088 non-null int64\n",
      "WeekofYear        41088 non-null int64\n",
      "dtypes: float64(2), int64(10), uint8(7)\n",
      "memory usage: 4.0 MB\n"
     ]
    }
   ],
   "source": [
    "test_df.info()"
   ]
  },
  {
   "cell_type": "code",
   "execution_count": 37,
   "metadata": {
    "collapsed": true
   },
   "outputs": [],
   "source": [
    "y_train = np.array(train_df[\"Sales\"])\n",
    "X_train = np.array(train_df.drop(\"Sales\", axis=1))"
   ]
  },
  {
   "cell_type": "code",
   "execution_count": 38,
   "metadata": {
    "collapsed": true
   },
   "outputs": [],
   "source": [
    "test_df = np.array(test_df)"
   ]
  },
  {
   "cell_type": "markdown",
   "metadata": {},
   "source": [
    "### Model"
   ]
  },
  {
   "cell_type": "code",
   "execution_count": 37,
   "metadata": {
    "collapsed": true
   },
   "outputs": [],
   "source": [
    "from sklearn.ensemble import RandomForestRegressor\n",
    "model = RandomForestRegressor(n_estimators=500, max_depth=7, random_state=5)"
   ]
  },
  {
   "cell_type": "code",
   "execution_count": 40,
   "metadata": {
    "collapsed": false
   },
   "outputs": [
    {
     "name": "stderr",
     "output_type": "stream",
     "text": [
      "/Users/pratheerthpadman/anaconda/envs/carnd-term1/lib/python3.5/site-packages/sklearn/cross_validation.py:44: DeprecationWarning: This module was deprecated in version 0.18 in favor of the model_selection module into which all the refactored classes and functions are moved. Also note that the interface of the new CV iterators are different from that of this module. This module will be removed in 0.20.\n",
      "  \"This module will be removed in 0.20.\", DeprecationWarning)\n"
     ]
    }
   ],
   "source": [
    "import xgboost as xgb\n",
    "model = xgb.XGBRegressor(n_estimators=1000, max_depth=7,\n",
    "                         nthread=-1, seed=7, colsample_bytree = 0.7,\n",
    "                         subsample =  0.7, learning_rate=0.1)"
   ]
  },
  {
   "cell_type": "code",
   "execution_count": 37,
   "metadata": {
    "collapsed": false
   },
   "outputs": [],
   "source": [
    "from catboost import CatBoostRegressor\n",
    "model = CatBoostRegressor(iterations=1000, depth=7, learning_rate=0.1)"
   ]
  },
  {
   "cell_type": "code",
   "execution_count": 39,
   "metadata": {
    "collapsed": false
   },
   "outputs": [
    {
     "name": "stderr",
     "output_type": "stream",
     "text": [
      "Using TensorFlow backend.\n"
     ]
    }
   ],
   "source": [
    "import numpy as np\n",
    "import pandas as pd\n",
    "from keras.models import Sequential\n",
    "from keras.layers import Dense, Dropout\n",
    "from keras.wrappers.scikit_learn import KerasRegressor\n",
    "\n",
    "##define base model\n",
    "def base_model():\n",
    "     model = Sequential()\n",
    "     model.add(Dense(400, input_dim=X_train.shape[1], init='normal', activation='relu'))\n",
    "     model.add(Dropout(.1))\n",
    "     model.add(Dense(128, init=\"normal\", activation=\"relu\"))\n",
    "     model.add(Dropout(.1))\n",
    "     model.add(Dense(64, init=\"normal\", activation=\"relu\"))\n",
    "     model.add(Dense(32, init='normal', activation='relu'))\n",
    "     model.add(Dense(1, init='normal'))\n",
    "     model.compile(loss='mean_squared_error', optimizer = 'adamax')\n",
    "     return model\n",
    "\n",
    "seed = 7\n",
    "np.random.seed(seed)\n",
    "\n",
    "model = KerasRegressor(build_fn=base_model, epochs=70, batch_size=128,verbose=1)"
   ]
  },
  {
   "cell_type": "code",
   "execution_count": 40,
   "metadata": {
    "collapsed": false
   },
   "outputs": [
    {
     "name": "stderr",
     "output_type": "stream",
     "text": [
      "/Users/pratheerthpadman/anaconda/envs/carnd-term1/lib/python3.5/site-packages/ipykernel/__main__.py:10: UserWarning: Update your `Dense` call to the Keras 2 API: `Dense(400, input_dim=19, activation=\"relu\", kernel_initializer=\"normal\")`\n",
      "/Users/pratheerthpadman/anaconda/envs/carnd-term1/lib/python3.5/site-packages/ipykernel/__main__.py:12: UserWarning: Update your `Dense` call to the Keras 2 API: `Dense(128, activation=\"relu\", kernel_initializer=\"normal\")`\n",
      "/Users/pratheerthpadman/anaconda/envs/carnd-term1/lib/python3.5/site-packages/ipykernel/__main__.py:14: UserWarning: Update your `Dense` call to the Keras 2 API: `Dense(64, activation=\"relu\", kernel_initializer=\"normal\")`\n",
      "/Users/pratheerthpadman/anaconda/envs/carnd-term1/lib/python3.5/site-packages/ipykernel/__main__.py:15: UserWarning: Update your `Dense` call to the Keras 2 API: `Dense(32, activation=\"relu\", kernel_initializer=\"normal\")`\n",
      "/Users/pratheerthpadman/anaconda/envs/carnd-term1/lib/python3.5/site-packages/ipykernel/__main__.py:16: UserWarning: Update your `Dense` call to the Keras 2 API: `Dense(1, kernel_initializer=\"normal\")`\n"
     ]
    },
    {
     "name": "stdout",
     "output_type": "stream",
     "text": [
      "Epoch 1/70\n",
      "1017209/1017209 [==============================] - 45s 44us/step - loss: 4929853.4323\n",
      "Epoch 2/70\n",
      "1017209/1017209 [==============================] - 42s 41us/step - loss: 2158164.8743\n",
      "Epoch 3/70\n",
      "1017209/1017209 [==============================] - 42s 41us/step - loss: 2045156.1066\n",
      "Epoch 4/70\n",
      "1017209/1017209 [==============================] - 42s 41us/step - loss: 1992210.8542\n",
      "Epoch 5/70\n",
      "1017209/1017209 [==============================] - 42s 41us/step - loss: 1942528.1714\n",
      "Epoch 6/70\n",
      "1017209/1017209 [==============================] - 43s 42us/step - loss: 1949393.9372\n",
      "Epoch 7/70\n",
      "1017209/1017209 [==============================] - 44s 43us/step - loss: 1903015.7733\n",
      "Epoch 8/70\n",
      "1017209/1017209 [==============================] - 44s 43us/step - loss: 1917311.8253\n",
      "Epoch 9/70\n",
      "1017209/1017209 [==============================] - 43s 42us/step - loss: 1932206.5775\n",
      "Epoch 10/70\n",
      "1017209/1017209 [==============================] - 44s 43us/step - loss: 1864849.4622\n",
      "Epoch 11/70\n",
      "1017209/1017209 [==============================] - 45s 44us/step - loss: 1840056.2117\n",
      "Epoch 12/70\n",
      "1017209/1017209 [==============================] - 45s 44us/step - loss: 1801420.8011\n",
      "Epoch 13/70\n",
      "1017209/1017209 [==============================] - 45s 45us/step - loss: 1760734.5462\n",
      "Epoch 14/70\n",
      "1017209/1017209 [==============================] - 44s 44us/step - loss: 1750465.2545\n",
      "Epoch 15/70\n",
      "1017209/1017209 [==============================] - 45s 44us/step - loss: 1740156.4340\n",
      "Epoch 16/70\n",
      "1017209/1017209 [==============================] - 46s 45us/step - loss: 1720068.5462\n",
      "Epoch 17/70\n",
      "1017209/1017209 [==============================] - 46s 45us/step - loss: 1702275.0377\n",
      "Epoch 18/70\n",
      "1017209/1017209 [==============================] - 57s 56us/step - loss: 1668147.6566\n",
      "Epoch 19/70\n",
      "1017209/1017209 [==============================] - 63s 62us/step - loss: 1696537.9729\n",
      "Epoch 20/70\n",
      "1017209/1017209 [==============================] - 54s 53us/step - loss: 1709047.8744\n",
      "Epoch 21/70\n",
      "1017209/1017209 [==============================] - 48s 48us/step - loss: 1707929.4175\n",
      "Epoch 22/70\n",
      "1017209/1017209 [==============================] - 49s 49us/step - loss: 1708744.1545\n",
      "Epoch 23/70\n",
      "1017209/1017209 [==============================] - 53s 52us/step - loss: 1692580.0750\n",
      "Epoch 24/70\n",
      "1017209/1017209 [==============================] - 55s 54us/step - loss: 1697160.5581\n",
      "Epoch 25/70\n",
      "1017209/1017209 [==============================] - 54s 53us/step - loss: 1678492.0173\n",
      "Epoch 26/70\n",
      "1017209/1017209 [==============================] - 63s 62us/step - loss: 1667487.0039\n",
      "Epoch 27/70\n",
      "1017209/1017209 [==============================] - 53s 52us/step - loss: 1647470.4775\n",
      "Epoch 28/70\n",
      "1017209/1017209 [==============================] - 51s 50us/step - loss: 1653560.6379\n",
      "Epoch 29/70\n",
      "1017209/1017209 [==============================] - 46s 45us/step - loss: 1648734.0506\n",
      "Epoch 30/70\n",
      "1017209/1017209 [==============================] - 50s 49us/step - loss: 1641820.0435\n",
      "Epoch 31/70\n",
      "1017209/1017209 [==============================] - 58s 57us/step - loss: 1625135.0153\n",
      "Epoch 32/70\n",
      "1017209/1017209 [==============================] - 55s 54us/step - loss: 1618862.0398\n",
      "Epoch 33/70\n",
      "1017209/1017209 [==============================] - 47s 46us/step - loss: 1625394.1133\n",
      "Epoch 34/70\n",
      "1017209/1017209 [==============================] - 54s 53us/step - loss: 1610313.3927\n",
      "Epoch 35/70\n",
      "1017209/1017209 [==============================] - 56s 55us/step - loss: 1608190.6087\n",
      "Epoch 36/70\n",
      "1017209/1017209 [==============================] - 56s 55us/step - loss: 1616618.9850\n",
      "Epoch 37/70\n",
      "1017209/1017209 [==============================] - 54s 54us/step - loss: 1601314.3504\n",
      "Epoch 38/70\n",
      "1017209/1017209 [==============================] - 52s 51us/step - loss: 1591994.3489\n",
      "Epoch 39/70\n",
      "1017209/1017209 [==============================] - 51s 50us/step - loss: 1587756.2702\n",
      "Epoch 40/70\n",
      "1017209/1017209 [==============================] - 56s 55us/step - loss: 1592199.5274\n",
      "Epoch 41/70\n",
      "1017209/1017209 [==============================] - 53s 52us/step - loss: 1579695.5038\n",
      "Epoch 42/70\n",
      "1017209/1017209 [==============================] - 61s 60us/step - loss: 1565649.5752\n",
      "Epoch 43/70\n",
      "1017209/1017209 [==============================] - 47s 46us/step - loss: 1572331.8082\n",
      "Epoch 44/70\n",
      "1017209/1017209 [==============================] - 48s 47us/step - loss: 1571044.9944\n",
      "Epoch 45/70\n",
      "1017209/1017209 [==============================] - 49s 48us/step - loss: 1560091.8660\n",
      "Epoch 46/70\n",
      "1017209/1017209 [==============================] - 51s 50us/step - loss: 1563223.4158\n",
      "Epoch 47/70\n",
      "1017209/1017209 [==============================] - 58s 57us/step - loss: 1558461.1243\n",
      "Epoch 48/70\n",
      "1017209/1017209 [==============================] - 56s 55us/step - loss: 1616868.2599\n",
      "Epoch 49/70\n",
      "1017209/1017209 [==============================] - 57s 56us/step - loss: 1595884.9994\n",
      "Epoch 50/70\n",
      "1017209/1017209 [==============================] - 61s 60us/step - loss: 1583902.0891\n",
      "Epoch 51/70\n",
      "1017209/1017209 [==============================] - 62s 61us/step - loss: 1565901.8428\n",
      "Epoch 52/70\n",
      "1017209/1017209 [==============================] - 59s 58us/step - loss: 1562841.3177\n",
      "Epoch 53/70\n",
      "1017209/1017209 [==============================] - 59s 58us/step - loss: 1560383.1870\n",
      "Epoch 54/70\n",
      "1017209/1017209 [==============================] - 64s 63us/step - loss: 1566258.2588\n",
      "Epoch 55/70\n",
      "1017209/1017209 [==============================] - 60s 59us/step - loss: 1552990.6619\n",
      "Epoch 56/70\n",
      "1017209/1017209 [==============================] - 54s 53us/step - loss: 1546886.9182\n",
      "Epoch 57/70\n",
      "1017209/1017209 [==============================] - 73s 72us/step - loss: 1548239.1556\n",
      "Epoch 58/70\n",
      "1017209/1017209 [==============================] - 59s 58us/step - loss: 1542169.2491\n",
      "Epoch 59/70\n",
      "1017209/1017209 [==============================] - 48s 47us/step - loss: 1534433.8688\n",
      "Epoch 60/70\n",
      "1017209/1017209 [==============================] - 47s 46us/step - loss: 1553965.5216\n",
      "Epoch 61/70\n",
      "1017209/1017209 [==============================] - 47s 46us/step - loss: 1535326.8790\n",
      "Epoch 62/70\n",
      "1017209/1017209 [==============================] - 45s 44us/step - loss: 1527713.0795\n",
      "Epoch 63/70\n",
      "1017209/1017209 [==============================] - 44s 43us/step - loss: 1531510.3027\n",
      "Epoch 64/70\n",
      "1017209/1017209 [==============================] - 45s 44us/step - loss: 1522518.0094\n",
      "Epoch 65/70\n",
      "1017209/1017209 [==============================] - 44s 43us/step - loss: 1536276.9876\n",
      "Epoch 66/70\n",
      "1017209/1017209 [==============================] - 45s 44us/step - loss: 1538389.9454\n",
      "Epoch 67/70\n",
      "1017209/1017209 [==============================] - 44s 44us/step - loss: 1531110.0664\n",
      "Epoch 68/70\n",
      "1017209/1017209 [==============================] - 45s 44us/step - loss: 1554669.6014\n",
      "Epoch 69/70\n",
      "1017209/1017209 [==============================] - 44s 44us/step - loss: 1564034.5604\n",
      "Epoch 70/70\n",
      "1017209/1017209 [==============================] - 45s 44us/step - loss: 1552336.1409\n"
     ]
    },
    {
     "data": {
      "text/plain": [
       "<keras.callbacks.History at 0x116055da0>"
      ]
     },
     "execution_count": 40,
     "metadata": {},
     "output_type": "execute_result"
    }
   ],
   "source": [
    "model.fit(X_train, y_train)"
   ]
  },
  {
   "cell_type": "code",
   "execution_count": 41,
   "metadata": {
    "collapsed": false
   },
   "outputs": [
    {
     "name": "stdout",
     "output_type": "stream",
     "text": [
      "41088/41088 [==============================] - 1s 15us/step\n"
     ]
    }
   ],
   "source": [
    "y_pred = model.predict(test_df)"
   ]
  },
  {
   "cell_type": "code",
   "execution_count": 40,
   "metadata": {
    "collapsed": false
   },
   "outputs": [
    {
     "name": "stdout",
     "output_type": "stream",
     "text": [
      "<class 'pandas.core.frame.DataFrame'>\n",
      "RangeIndex: 1017209 entries, 0 to 1017208\n",
      "Data columns (total 12 columns):\n",
      "Store             1017209 non-null int64\n",
      "DayOfWeek         1017209 non-null int64\n",
      "Open              1017209 non-null int64\n",
      "Promo             1017209 non-null int64\n",
      "StateHoliday      1017209 non-null int64\n",
      "SchoolHoliday     1017209 non-null int64\n",
      "Mean Sales        1017209 non-null float64\n",
      "Mean Customers    1017209 non-null float64\n",
      "Month             1017209 non-null int64\n",
      "Year              1017209 non-null int64\n",
      "DayofYear         1017209 non-null int64\n",
      "WeekofYear        1017209 non-null int64\n",
      "dtypes: float64(2), int64(10)\n",
      "memory usage: 93.1 MB\n"
     ]
    }
   ],
   "source": [
    "X_train.info()"
   ]
  },
  {
   "cell_type": "code",
   "execution_count": 41,
   "metadata": {
    "collapsed": false
   },
   "outputs": [
    {
     "name": "stdout",
     "output_type": "stream",
     "text": [
      "<class 'pandas.core.frame.DataFrame'>\n",
      "RangeIndex: 41088 entries, 0 to 41087\n",
      "Data columns (total 12 columns):\n",
      "Store             41088 non-null int64\n",
      "DayOfWeek         41088 non-null int64\n",
      "Open              41088 non-null int64\n",
      "Promo             41088 non-null int64\n",
      "StateHoliday      41088 non-null int64\n",
      "SchoolHoliday     41088 non-null int64\n",
      "Mean Sales        41088 non-null float64\n",
      "Mean Customers    41088 non-null float64\n",
      "Month             41088 non-null int64\n",
      "Year              41088 non-null int64\n",
      "DayofYear         41088 non-null int64\n",
      "WeekofYear        41088 non-null int64\n",
      "dtypes: float64(2), int64(10)\n",
      "memory usage: 3.8 MB\n"
     ]
    }
   ],
   "source": [
    "test_df.info()"
   ]
  },
  {
   "cell_type": "code",
   "execution_count": 42,
   "metadata": {
    "collapsed": true
   },
   "outputs": [],
   "source": [
    "submission = pd.DataFrame()\n",
    "submission['id'] = ID\n",
    "submission['Sales'] = y_pred\n",
    "submission.to_csv('Submission-keras3-sharper.csv', index=False)"
   ]
  },
  {
   "cell_type": "code",
   "execution_count": 49,
   "metadata": {
    "collapsed": false
   },
   "outputs": [
    {
     "name": "stdout",
     "output_type": "stream",
     "text": [
      "Feature ranking:\n",
      "1. feature 2 (0.518650)\n",
      "2. feature 6 (0.359502)\n",
      "3. feature 3 (0.087024)\n",
      "4. feature 1 (0.020662)\n",
      "5. feature 10 (0.013470)\n",
      "6. feature 7 (0.000315)\n",
      "7. feature 11 (0.000236)\n",
      "8. feature 0 (0.000094)\n",
      "9. feature 8 (0.000046)\n",
      "10. feature 4 (0.000000)\n",
      "11. feature 9 (0.000000)\n",
      "12. feature 5 (0.000000)\n"
     ]
    },
    {
     "data": {
      "image/png": "[encoded data removed]",
      "text/plain": [
       "<matplotlib.figure.Figure at 0x10223def0>"
      ]
     },
     "metadata": {},
     "output_type": "display_data"
    }
   ],
   "source": [
    "importances = model.feature_importances_\n",
    "std = np.std([tree.feature_importances_ for tree in model.estimators_],\n",
    "             axis=0)\n",
    "indices = np.argsort(importances)[::-1]\n",
    "\n",
    "# Print the feature ranking\n",
    "print(\"Feature ranking:\")\n",
    "\n",
    "for f in range(X_train.shape[1]):\n",
    "    print(\"%d. feature %d (%f)\" % (f + 1, indices[f], importances[indices[f]]))\n",
    "\n",
    "# Plot the feature importances of the forest\n",
    "plt.figure()\n",
    "plt.title(\"Feature importances\")\n",
    "plt.bar(range(X_train.shape[1]), importances[indices],\n",
    "       color=\"r\", yerr=std[indices], align=\"center\")\n",
    "plt.xticks(range(X_train.shape[1]), indices)\n",
    "plt.xlim([-1, X_train.shape[1]])\n",
    "plt.show()"
   ]
  },
  {
   "cell_type": "code",
   "execution_count": null,
   "metadata": {
    "collapsed": true
   },
   "outputs": [],
   "source": []
  }
 ],
 "metadata": {
  "anaconda-cloud": {},
  "kernelspec": {
   "display_name": "Python [carnd-term1]",
   "language": "python",
   "name": "Python [carnd-term1]"
  },
  "language_info": {
   "codemirror_mode": {
    "name": "ipython",
    "version": 3
   },
   "file_extension": ".py",
   "mimetype": "text/x-python",
   "name": "python",
   "nbconvert_exporter": "python",
   "pygments_lexer": "ipython3",
   "version": "3.5.2"
  }
 },
 "nbformat": 4,
 "nbformat_minor": 0
}
